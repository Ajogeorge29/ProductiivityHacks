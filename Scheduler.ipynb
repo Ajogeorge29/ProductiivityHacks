{
  "nbformat": 4,
  "nbformat_minor": 0,
  "metadata": {
    "colab": {
      "provenance": [],
      "authorship_tag": "ABX9TyOHXDGX5uA3YJiTjh0mub6q",
      "include_colab_link": true
    },
    "kernelspec": {
      "name": "python3",
      "display_name": "Python 3"
    },
    "language_info": {
      "name": "python"
    }
  },
  "cells": [
    {
      "cell_type": "markdown",
      "metadata": {
        "id": "view-in-github",
        "colab_type": "text"
      },
      "source": [
        "<a href=\"https://colab.research.google.com/github/Ajogeorge29/ProductiivityHacks/blob/main/Scheduler.ipynb\" target=\"_parent\"><img src=\"https://colab.research.google.com/assets/colab-badge.svg\" alt=\"Open In Colab\"/></a>"
      ]
    },
    {
      "cell_type": "code",
      "execution_count": null,
      "metadata": {
        "id": "zGR4lUptge3S"
      },
      "outputs": [],
      "source": [
        "import sqlite3\n",
        "from datetime import datetime, timedelta"
      ]
    },
    {
      "cell_type": "code",
      "source": [
        "# Connect to the database (creates the file in Colab environment)\n",
        "conn = sqlite3.connect('dental_clinic.db')\n",
        "cursor = conn.cursor()"
      ],
      "metadata": {
        "id": "WSqe_oxlgxc2"
      },
      "execution_count": null,
      "outputs": []
    },
    {
      "cell_type": "code",
      "source": [
        "# Create the Patients table\n",
        "cursor.execute('''\n",
        "CREATE TABLE IF NOT EXISTS Patients (\n",
        "    patient_id INTEGER PRIMARY KEY AUTOINCREMENT,\n",
        "    name TEXT NOT NULL,\n",
        "    contact TEXT NOT NULL,\n",
        "    email TEXT NOT NULL\n",
        ")\n",
        "''')\n"
      ],
      "metadata": {
        "colab": {
          "base_uri": "https://localhost:8080/"
        },
        "id": "i6zpypq0g47v",
        "outputId": "99ef28a2-e4fa-4f3a-d35f-bb3f23a63945"
      },
      "execution_count": null,
      "outputs": [
        {
          "output_type": "execute_result",
          "data": {
            "text/plain": [
              "<sqlite3.Cursor at 0x7814cc7084c0>"
            ]
          },
          "metadata": {},
          "execution_count": 27
        }
      ]
    },
    {
      "cell_type": "code",
      "source": [
        "# Create the Appointments table\n",
        "cursor.execute('''\n",
        "CREATE TABLE IF NOT EXISTS Appointments (\n",
        "    appointment_id INTEGER PRIMARY KEY AUTOINCREMENT,\n",
        "    patient_id INTEGER,\n",
        "    appointment_date DATE,\n",
        "    treatment TEXT,\n",
        "    instructions TEXT,\n",
        "    FOREIGN KEY (patient_id) REFERENCES Patients(patient_id)\n",
        ")\n",
        "''')\n"
      ],
      "metadata": {
        "colab": {
          "base_uri": "https://localhost:8080/"
        },
        "id": "GtX_bkhtg70U",
        "outputId": "9340767b-e800-4dc0-bcd1-b66cf12870e7"
      },
      "execution_count": null,
      "outputs": [
        {
          "output_type": "execute_result",
          "data": {
            "text/plain": [
              "<sqlite3.Cursor at 0x7814cc7084c0>"
            ]
          },
          "metadata": {},
          "execution_count": 28
        }
      ]
    },
    {
      "cell_type": "code",
      "source": [
        "# Save changes\n",
        "conn.commit()"
      ],
      "metadata": {
        "id": "jAF6PYvyhBpD"
      },
      "execution_count": null,
      "outputs": []
    },
    {
      "cell_type": "code",
      "source": [
        "# Insert sample data (for testing purposes)\n",
        "cursor.execute(\"INSERT INTO Patients (name, contact, email) VALUES (?, ?, ?)\",\n",
        "               ('Ajo', '+916238408318', 'ajobabu7@gmail.com'))\n",
        "cursor.execute(\"INSERT INTO Appointments (patient_id, appointment_date, treatment, instructions) VALUES (?, ?, ?, ?)\",\n",
        "               (4, '2024-09-14', 'Teeth Cleaning', 'Please do not eat for 6 hours before your appointment.'))\n",
        "\n",
        "# Save changes\n",
        "conn.commit()\n"
      ],
      "metadata": {
        "id": "h8a13hcxhH9o"
      },
      "execution_count": null,
      "outputs": []
    },
    {
      "cell_type": "code",
      "source": [
        "\n",
        "# Function to fetch and display appointments for tomorrow\n",
        "def fetch_tomorrow_appointments():\n",
        "    # Get tomorrow's date\n",
        "    tomorrow = (datetime.now() + timedelta(days=1)).strftime('%Y-%m-%d')\n",
        "\n",
        "    # Fetch appointments for tomorrow\n",
        "    cursor.execute('''\n",
        "    SELECT Patients.name, Patients.email, Appointments.instructions\n",
        "    FROM Patients\n",
        "    JOIN Appointments ON Patients.patient_id = Appointments.patient_id\n",
        "    WHERE date(Appointments.appointment_date) = ?\n",
        "    ''', (tomorrow,))\n",
        "    appointments = cursor.fetchall()\n",
        "\n",
        "    # Display appointments\n",
        "    if appointments:\n",
        "        print(\"Appointments for tomorrow:\")\n",
        "        for appointment in appointments:\n",
        "            patient_name, email, instructions = appointment\n",
        "            print(f\"Patient: {patient_name}, Email: {email}, Instructions: {instructions}\")\n",
        "    else:\n",
        "        print(\"No appointments for tomorrow.\")\n",
        "\n",
        "# Fetch and display appointments for testing\n",
        "fetch_tomorrow_appointments()\n",
        "\n",
        "# Close the connection to the database\n",
        "conn.close()"
      ],
      "metadata": {
        "colab": {
          "base_uri": "https://localhost:8080/"
        },
        "id": "ZZvj39BUhO8x",
        "outputId": "83b6e051-2413-4f7d-f6ae-a08f832f7121"
      },
      "execution_count": null,
      "outputs": [
        {
          "output_type": "stream",
          "name": "stdout",
          "text": [
            "Appointments for tomorrow:\n",
            "Patient: John Doe, Email: johndoe@example.com, Instructions: Please do not eat for 6 hours before your appointment.\n",
            "Patient: John Doe, Email: johndoe@example.com, Instructions: Please do not eat for 6 hours before your appointment.\n",
            "Patient: John Doe, Email: johndoe@example.com, Instructions: Please do not eat for 6 hours before your appointment.\n",
            "Patient: Ajo, Email: ajobabu7@gmail.com, Instructions: Please do not eat for 6 hours before your appointment.\n",
            "Patient: Ajo, Email: ajobabu7@gmail.com, Instructions: Please do not eat for 6 hours before your appointment.\n"
          ]
        }
      ]
    },
    {
      "cell_type": "code",
      "source": [
        "from google.colab import files\n",
        "\n",
        "# Download the SQLite database file\n",
        "files.download('dental_clinic.db')\n"
      ],
      "metadata": {
        "colab": {
          "base_uri": "https://localhost:8080/",
          "height": 17
        },
        "id": "NicsejbLhS_u",
        "outputId": "967dea48-d621-4e1c-c7e1-146df32503f0"
      },
      "execution_count": null,
      "outputs": [
        {
          "output_type": "display_data",
          "data": {
            "text/plain": [
              "<IPython.core.display.Javascript object>"
            ],
            "application/javascript": [
              "\n",
              "    async function download(id, filename, size) {\n",
              "      if (!google.colab.kernel.accessAllowed) {\n",
              "        return;\n",
              "      }\n",
              "      const div = document.createElement('div');\n",
              "      const label = document.createElement('label');\n",
              "      label.textContent = `Downloading \"${filename}\": `;\n",
              "      div.appendChild(label);\n",
              "      const progress = document.createElement('progress');\n",
              "      progress.max = size;\n",
              "      div.appendChild(progress);\n",
              "      document.body.appendChild(div);\n",
              "\n",
              "      const buffers = [];\n",
              "      let downloaded = 0;\n",
              "\n",
              "      const channel = await google.colab.kernel.comms.open(id);\n",
              "      // Send a message to notify the kernel that we're ready.\n",
              "      channel.send({})\n",
              "\n",
              "      for await (const message of channel.messages) {\n",
              "        // Send a message to notify the kernel that we're ready.\n",
              "        channel.send({})\n",
              "        if (message.buffers) {\n",
              "          for (const buffer of message.buffers) {\n",
              "            buffers.push(buffer);\n",
              "            downloaded += buffer.byteLength;\n",
              "            progress.value = downloaded;\n",
              "          }\n",
              "        }\n",
              "      }\n",
              "      const blob = new Blob(buffers, {type: 'application/binary'});\n",
              "      const a = document.createElement('a');\n",
              "      a.href = window.URL.createObjectURL(blob);\n",
              "      a.download = filename;\n",
              "      div.appendChild(a);\n",
              "      a.click();\n",
              "      div.remove();\n",
              "    }\n",
              "  "
            ]
          },
          "metadata": {}
        },
        {
          "output_type": "display_data",
          "data": {
            "text/plain": [
              "<IPython.core.display.Javascript object>"
            ],
            "application/javascript": [
              "download(\"download_10104e7b-abb8-4470-8575-999268513a20\", \"dental_clinic.db\", 16384)"
            ]
          },
          "metadata": {}
        }
      ]
    }
  ]
}